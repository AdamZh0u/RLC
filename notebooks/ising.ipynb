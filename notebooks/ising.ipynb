{
 "cells": [
  {
   "cell_type": "code",
   "execution_count": null,
   "metadata": {},
   "outputs": [],
   "source": [
    "import numpy as np\n",
    "import torch\n",
    "from matplotlib import pyplot as plt\n",
    "\n",
    "def init_grid(size=(10,)):\n",
    "    grid=torch.randn(*size)\n",
    "    grid[grid > 0]=1\n",
    "    grid[grid <=0]=0\n",
    "    grid=grid.byte() # ←---　将浮点数转换为字节对象使其二进制化\n",
    "    return grid\n",
    "\n",
    "\n",
    "def get_reward(s,a): # 　　←---　此函数接收s中的邻居，并将它们与智能体a比较，如果匹配，则奖励就会更高\n",
    "    r=-1\n",
    "    for i in s:\n",
    "        if i==a:\n",
    "            r+=0.9\n",
    "    r *=2.\n",
    "    return r"
   ]
  }
 ],
 "metadata": {
  "kernelspec": {
   "display_name": "py10",
   "language": "python",
   "name": "python3"
  },
  "language_info": {
   "name": "python",
   "version": "3.10.13"
  }
 },
 "nbformat": 4,
 "nbformat_minor": 2
}
