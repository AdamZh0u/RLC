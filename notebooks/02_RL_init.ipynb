{
 "cells": [
  {
   "cell_type": "markdown",
   "metadata": {},
   "source": [
    "# Chp 1 "
   ]
  },
  {
   "cell_type": "code",
   "execution_count": 2,
   "metadata": {},
   "outputs": [
    {
     "name": "stdout",
     "output_type": "stream",
     "text": [
      "Track generation: 944..1191 -> 247-tiles track\n"
     ]
    }
   ],
   "source": [
    "import gym\n",
    "import numpy as np\n",
    "\n",
    "env=gym.make('CarRacing-v0')\n",
    "env.reset()\n",
    "actions = np.array([2, 0, 1])\n",
    "env.step(actions)\n",
    "env.render()\n",
    "env.close()"
   ]
  },
  {
   "cell_type": "code",
   "execution_count": 5,
   "metadata": {},
   "outputs": [
    {
     "name": "stdout",
     "output_type": "stream",
     "text": [
      "pygame 2.5.2 (SDL 2.28.3, Python 3.9.7)\n",
      "Hello from the pygame community. https://www.pygame.org/contribute.html\n"
     ]
    }
   ],
   "source": [
    "import gym\n",
    "import pygame\n",
    "from gym.utils.play import play\n",
    "\n",
    "mapping = {(pygame.K_LEFT,): 0, (pygame.K_RIGHT,): 1}\n",
    "play(gym.make(\"CartPole-v0\"), keys_to_action=mapping)"
   ]
  },
  {
   "cell_type": "markdown",
   "metadata": {},
   "source": [
    "# 多臂机"
   ]
  },
  {
   "cell_type": "markdown",
   "metadata": {},
   "source": [
    "## eps-greedy算法"
   ]
  },
  {
   "cell_type": "code",
   "execution_count": 7,
   "metadata": {},
   "outputs": [],
   "source": [
    "import numpy as np\n",
    "from scipy import stats\n",
    "import random\n",
    "import matplotlib.pyplot as plt\n",
    "from src.utils.plot_utils import setup_mpl\n",
    "\n",
    "setup_mpl(as_default=False)\n",
    "\n",
    "n=10# 臂的数量\n",
    "probs=np.random.rand(n) # 每个臂关联的隐藏概率\n",
    "eps=0.2 # 用于ε贪婪动作选择的ε"
   ]
  },
  {
   "cell_type": "code",
   "execution_count": 9,
   "metadata": {},
   "outputs": [],
   "source": [
    "def get_reward(prob, n=10):\n",
    "    reward=0\n",
    "    for i in range(n):\n",
    "        if random.random() < prob:\n",
    "            reward+=1\n",
    "    return reward"
   ]
  },
  {
   "cell_type": "code",
   "execution_count": 14,
   "metadata": {},
   "outputs": [],
   "source": [
    "trials = [get_reward(0.7) for _ in range(2000)]"
   ]
  },
  {
   "cell_type": "code",
   "execution_count": 21,
   "metadata": {},
   "outputs": [
    {
     "data": {
      "text/plain": [
       "(array([  1.,   3.,  15.,  67., 222., 391., 584., 450., 207.,  60.]),\n",
       " array([ 1. ,  1.9,  2.8,  3.7,  4.6,  5.5,  6.4,  7.3,  8.2,  9.1, 10. ]),\n",
       " <BarContainer object of 10 artists>)"
      ]
     },
     "execution_count": 21,
     "metadata": {},
     "output_type": "execute_result"
    },
    {
     "data": {
      "image/png": "[encoded data removed]",
      "text/plain": [
       "<Figure size 640x480 with 1 Axes>"
      ]
     },
     "metadata": {},
     "output_type": "display_data"
    }
   ],
   "source": [
    "plt.hist(trials)"
   ]
  },
  {
   "cell_type": "code",
   "execution_count": 17,
   "metadata": {},
   "outputs": [],
   "source": [
    "records = np.zeros((n, 2)) # 每个臂的记录，第一列是计数，第二列是平均奖励, 平均奖励根据次数不断更新"
   ]
  },
  {
   "cell_type": "code",
   "execution_count": 22,
   "metadata": {},
   "outputs": [],
   "source": [
    "def update_record(record,action,r):\n",
    "    new_r=(record[action,0] * record[action,1]+r) / (record[action,0]+1)\n",
    "    record[action,0]+=1\n",
    "    record[action,1]=new_r\n",
    "    return record"
   ]
  },
  {
   "cell_type": "code",
   "execution_count": 23,
   "metadata": {},
   "outputs": [],
   "source": [
    "def get_best_arm(record):\n",
    "    arm_index=np.argmax(record[:,1],axis=0) # 对数组record的第二列调用NumPy的argmax函数\n",
    "    return arm_index"
   ]
  },
  {
   "cell_type": "code",
   "execution_count": 28,
   "metadata": {},
   "outputs": [
    {
     "data": {
      "text/plain": [
       "<matplotlib.collections.PathCollection at 0x15fcc2a90>"
      ]
     },
     "execution_count": 28,
     "metadata": {},
     "output_type": "execute_result"
    },
    {
     "data": {
      "image/png": "[encoded data removed]",
      "text/plain": [
       "<Figure size 350x250 with 1 Axes>"
      ]
     },
     "metadata": {},
     "output_type": "display_data"
    }
   ],
   "source": [
    "fig, ax=plt.subplots(1,1,figsize=(3.5,2.5) )\n",
    "ax.set_xlabel(\"Plays\")\n",
    "ax.set_ylabel(\"Avg Reward\")\n",
    "record=np.zeros((n,2)) # 随机初始化每个臂的奖励概率\n",
    "probs=np.random.rand(n)\n",
    "eps=0.2\n",
    "rewards=[0] # 将数组record元素初始化为0\n",
    "for i in range(500):\n",
    "    if random.random() > eps: # 以概率0.8选择最佳动作 0.2选择随机动作 探索\n",
    "        choice=get_best_arm(record)\n",
    "    else:\n",
    "        choice=np.random.randint(10) \n",
    "\n",
    "    r=get_reward(probs[choice]) # 计算选择臂的奖励\n",
    "    record=update_record(record,choice,r) # 利用新数量和臂的奖励观察值更新数组record\n",
    "    mean_reward=((i+1) * rewards[-1]+r)/(i+2)# 跟踪运行的平均奖励来评估整体表现\n",
    "    rewards.append(mean_reward)\n",
    "ax.scatter(np.arange(len(rewards)),rewards, s=2)"
   ]
  },
  {
   "cell_type": "code",
   "execution_count": 29,
   "metadata": {},
   "outputs": [],
   "source": []
  },
  {
   "cell_type": "markdown",
   "metadata": {},
   "source": [
    "## softmax action selection"
   ]
  },
  {
   "cell_type": "code",
   "execution_count": 49,
   "metadata": {},
   "outputs": [],
   "source": [
    "n = 10\n",
    "tau = 1.3"
   ]
  },
  {
   "cell_type": "code",
   "execution_count": 50,
   "metadata": {},
   "outputs": [],
   "source": [
    "def softmax(av, tau=1.12):\n",
    "    softm=np.exp(av / tau) / np.sum( np.exp(av / tau) )\n",
    "    return softm"
   ]
  },
  {
   "cell_type": "code",
   "execution_count": 51,
   "metadata": {},
   "outputs": [
    {
     "data": {
      "text/plain": [
       "<matplotlib.collections.PathCollection at 0x16d915490>"
      ]
     },
     "execution_count": 51,
     "metadata": {},
     "output_type": "execute_result"
    },
    {
     "data": {
      "image/png": "[encoded data removed]",
      "text/plain": [
       "<Figure size 350x250 with 1 Axes>"
      ]
     },
     "metadata": {},
     "output_type": "display_data"
    }
   ],
   "source": [
    "fig, ax=plt.subplots(1,1,figsize=(3.5,2.5) )\n",
    "ax.set_xlabel(\"Plays\")\n",
    "ax.set_ylabel(\"Avg Reward\")\n",
    "record=np.zeros((n,2)) # 随机初始化每个臂的奖励概率\n",
    "probs=np.random.rand(n)\n",
    "\n",
    "rewards=[0] # 将数组record元素初始化为0\n",
    "for i in range(500):\n",
    "    p = softmax(record[:, 1])\n",
    "    choice = np.random.choice(np.arange(n), p=p) # 以概率选择最佳动作\n",
    "    r=get_reward(probs[choice]) # 计算选择臂的奖励\n",
    "    record=update_record(record,choice,r) # 利用新数量和臂的奖励观察值更新数组record\n",
    "    mean_reward=((i+1) * rewards[-1]+r)/(i+2)# 跟踪运行的平均奖励来评估整体表现\n",
    "    rewards.append(mean_reward)\n",
    "ax.scatter(np.arange(len(rewards)),rewards, s=2)"
   ]
  },
  {
   "cell_type": "markdown",
   "metadata": {},
   "source": [
    "- 对tau非常敏感\n",
    "    - 如果tau太大，那么softmax函数会变得非常平坦，这样就会导致所有的动作都有相似的概率。\n",
    "    - 如果tau太小，那么softmax函数会变得非常尖锐，这样就会导致只有最佳动作的概率会非常高，其他动作的概率会非常低。\n",
    "    - 因此，tau的选择非常重要，它决定了探索和利用的平衡。"
   ]
  },
  {
   "cell_type": "code",
   "execution_count": 2,
   "metadata": {},
   "outputs": [],
   "source": [
    "class ContextBandit:\n",
    "    def __init__(self, arms=10):\n",
    "        self.arms = arms\n",
    "        self.init_distribution(arms)\n",
    "        self.update_state()\n",
    "        \n",
    "    def init_distribution(self, arms):\n",
    "        # Num states = Num Arms to keep things simple\n",
    "        self.bandit_matrix = np.random.rand(arms,arms)\n",
    "        #each row represents a state, each column an arm\n",
    "        \n",
    "    def reward(self, prob):\n",
    "        reward = 0\n",
    "        for i in range(self.arms):\n",
    "            if random.random() < prob:\n",
    "                reward += 1\n",
    "        return reward\n",
    "        \n",
    "    def get_state(self):\n",
    "        return self.state\n",
    "    \n",
    "    def update_state(self):\n",
    "        self.state = np.random.randint(0,self.arms)\n",
    "        \n",
    "    def get_reward(self,arm):\n",
    "        return self.reward(self.bandit_matrix[self.get_state()][arm])\n",
    "        \n",
    "    def choose_arm(self, arm):\n",
    "        reward = self.get_reward(arm)\n",
    "        self.update_state()\n",
    "        return reward"
   ]
  },
  {
   "cell_type": "code",
   "execution_count": 5,
   "metadata": {},
   "outputs": [],
   "source": [
    "import numpy as np\n",
    "import torch\n",
    "import random\n",
    "arms = 10\n",
    "N, D_in, H, D_out = 1, arms, 100, arms"
   ]
  },
  {
   "cell_type": "code",
   "execution_count": 7,
   "metadata": {},
   "outputs": [
    {
     "name": "stdout",
     "output_type": "stream",
     "text": [
      "1\n"
     ]
    }
   ],
   "source": [
    "env = ContextBandit(arms=10)\n",
    "state = env.get_state()\n",
    "reward = env.choose_arm(1)\n",
    "print(state)"
   ]
  }
 ],
 "metadata": {
  "kernelspec": {
   "display_name": "py39-rl",
   "language": "python",
   "name": "python3"
  },
  "language_info": {
   "codemirror_mode": {
    "name": "ipython",
    "version": 3
   },
   "file_extension": ".py",
   "mimetype": "text/x-python",
   "name": "python",
   "nbconvert_exporter": "python",
   "pygments_lexer": "ipython3",
   "version": "3.9.7"
  }
 },
 "nbformat": 4,
 "nbformat_minor": 2
}
